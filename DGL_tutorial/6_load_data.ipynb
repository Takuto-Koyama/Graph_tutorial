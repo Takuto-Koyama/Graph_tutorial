{
  "cells": [
    {
      "cell_type": "markdown",
      "metadata": {},
      "source": [
        "\n",
        "# 自作のデータセットを作成する\n",
        "\n",
        "このチュートリアルは、すでに :doc:`ノード分類のためのGNNのトレーニングの基本 <1_introduction>` と :doc:`DGLグラフの作成、ロード、保存 <2_dglgraph>` についてて理解していることを想定している。\n",
        "\n",
        "このチュートリアルでは、以下について学ぶ。\n",
        "\n",
        "- 自作のグラフデータセットを作成し、ノード分類、リンク予測、グラフ分類に使用する\n",
        "\n",
        "(Time estimate: 15 minutes)"
      ]
    },
    {
      "cell_type": "markdown",
      "metadata": {},
      "source": [
        "## ``DGLDataset`` オブジェクトのの概要\n",
        "\n",
        "カスタムグラフデータセットは、``dgl.data.DGLDataset`` クラスを継承し、以下のメソッドを実装する必要がある。\n",
        "\n",
        "- ``__getitem__(self, i)``: i番目のデータを取得する。データは通常、1つのDGLグラフと、場合によってはラベルを含む。\n",
        "- ``__len__(self)``: データセットのサイズ。\n",
        "- ``process(self)``: ディスクから生データをロードし、前処理を行う。"
      ]
    },
    {
      "cell_type": "markdown",
      "metadata": {},
      "source": [
        "## Creating a Dataset for Node Classification or Link Prediction from CSV\n",
        "\n",
        "A node classification dataset often consists of a single graph, as well\n",
        "as its node and edge features.\n",
        "\n",
        "This tutorial takes a small dataset based on [Zachary’s Karate Club\n",
        "network](https://en.wikipedia.org/wiki/Zachary%27s_karate_club)_. It\n",
        "contains\n",
        "\n",
        "* A ``members.csv`` file containing the attributes of all\n",
        "  members, as well as their attributes.\n",
        "\n",
        "* An ``interactions.csv`` file\n",
        "  containing the pair-wise interactions between two club members.\n",
        "\n",
        "\n",
        "## CSVファイルからノード分類のためのグラフデータセットを作成する\n",
        "\n",
        "ノード分類データセットは、通常、1つのグラフとそのノードとエッジの特徴を含む。\n",
        "\n",
        "このチュートリアルでは、[Zachary's Karate Club network](https://en.wikipedia.org/wiki/Zachary%27s_karate_club) に基づいて小規模データセットを使用する。これには以下が含まれる。\n",
        "\n",
        "* ``members.csv`` ファイルには、すべてのメンバーの属性と、その属性が含まれている。\n",
        "\n",
        "* ``interactions.csv`` ファイルには、2人のクラブメンバー間の相互作用が含まれている。"
      ]
    },
    {
      "cell_type": "code",
      "execution_count": 6,
      "metadata": {
        "collapsed": false
      },
      "outputs": [
        {
          "name": "stdout",
          "output_type": "stream",
          "text": [
            "   Id    Club  Age\n",
            "0   0  Mr. Hi   44\n",
            "1   1  Mr. Hi   37\n",
            "2   2  Mr. Hi   37\n",
            "3   3  Mr. Hi   40\n",
            "4   4  Mr. Hi   30\n",
            "   Src  Dst    Weight\n",
            "0    0    1  0.043591\n",
            "1    0    2  0.282119\n",
            "2    0    3  0.370293\n",
            "3    0    4  0.730570\n",
            "4    0    5  0.821187\n"
          ]
        }
      ],
      "source": [
        "# データセットの読み込み\n",
        "import urllib.request\n",
        "\n",
        "import pandas as pd\n",
        "\n",
        "urllib.request.urlretrieve(\n",
        "    \"https://data.dgl.ai/tutorial/dataset/members.csv\", \"./members.csv\"\n",
        ")\n",
        "urllib.request.urlretrieve(\n",
        "    \"https://data.dgl.ai/tutorial/dataset/interactions.csv\",\n",
        "    \"./interactions.csv\",\n",
        ")\n",
        "\n",
        "members = pd.read_csv(\"./members.csv\")\n",
        "print(members.head())\n",
        "\n",
        "interactions = pd.read_csv(\"./interactions.csv\")\n",
        "print(interactions.head())"
      ]
    },
    {
      "cell_type": "markdown",
      "metadata": {},
      "source": [
        "このチュートリアルでは、メンバーをノード、相互作用をエッジとして扱う。ノードの数値特徴として年齢、ノードのラベルとして所属クラブ、エッジの数値特徴としてエッジの重みを取る。\n",
        "\n",
        "<div class=\"alert alert-info\"><h4>Note</h4><p>元のZachary's Karate Club ネットワークはメンバーの年齢を保持していない。このチュートリアルで使用する年齢は、データの前処理でノード特徴量を加える方法を示すために人工的に生成されたものである。</p></div>\n",
        "\n",
        "<div class=\"alert alert-info\"><h4>Note</h4><p>実用的には、年齢の数値をそのまま特徴量とするのは機械学習においてはうまくいかないかもしれない; そのようなときにはビニングや標準化などが有効である。このチュートリアルでは簡単のため、値をそのまま使う。</p></div>"
      ]
    },
    {
      "cell_type": "code",
      "execution_count": 7,
      "metadata": {
        "collapsed": false
      },
      "outputs": [
        {
          "name": "stdout",
          "output_type": "stream",
          "text": [
            "Graph(num_nodes=34, num_edges=156,\n",
            "      ndata_schemes={'feat': Scheme(shape=(), dtype=torch.int64), 'label': Scheme(shape=(), dtype=torch.int8), 'train_mask': Scheme(shape=(), dtype=torch.bool), 'val_mask': Scheme(shape=(), dtype=torch.bool), 'test_mask': Scheme(shape=(), dtype=torch.bool)}\n",
            "      edata_schemes={'weight': Scheme(shape=(), dtype=torch.float64)})\n"
          ]
        }
      ],
      "source": [
        "import os\n",
        "\n",
        "os.environ[\"DGLBACKEND\"] = \"pytorch\"\n",
        "import dgl\n",
        "import torch\n",
        "from dgl.data import DGLDataset\n",
        "\n",
        "\n",
        "class KarateClubDataset(DGLDataset): # KarateClubDatasetクラスの実装\n",
        "    def __init__(self):\n",
        "        super().__init__(name=\"karate_club\")\n",
        "\n",
        "    def process(self):\n",
        "        nodes_data = pd.read_csv(\"./members.csv\")\n",
        "        edges_data = pd.read_csv(\"./interactions.csv\")\n",
        "        node_features = torch.from_numpy(nodes_data[\"Age\"].to_numpy()) # 年齢を特徴量として使う\n",
        "        node_labels = torch.from_numpy(\n",
        "            nodes_data[\"Club\"].astype(\"category\").cat.codes.to_numpy()\n",
        "        )\n",
        "        edge_features = torch.from_numpy(edges_data[\"Weight\"].to_numpy())\n",
        "        edges_src = torch.from_numpy(edges_data[\"Src\"].to_numpy())\n",
        "        edges_dst = torch.from_numpy(edges_data[\"Dst\"].to_numpy())\n",
        "\n",
        "        self.graph = dgl.graph(\n",
        "            (edges_src, edges_dst), num_nodes=nodes_data.shape[0]\n",
        "        )\n",
        "        self.graph.ndata[\"feat\"] = node_features\n",
        "        self.graph.ndata[\"label\"] = node_labels\n",
        "        self.graph.edata[\"weight\"] = edge_features\n",
        "\n",
        "        # ノード分類のデータセットの場合、ノードがトレーニング、バリデーション、テストセットに属しているかどうかを示すマスクを割り当てる必要がある\n",
        "        n_nodes = nodes_data.shape[0]\n",
        "        n_train = int(n_nodes * 0.6)\n",
        "        n_val = int(n_nodes * 0.2)\n",
        "        train_mask = torch.zeros(n_nodes, dtype=torch.bool)\n",
        "        val_mask = torch.zeros(n_nodes, dtype=torch.bool)\n",
        "        test_mask = torch.zeros(n_nodes, dtype=torch.bool)\n",
        "        train_mask[:n_train] = True\n",
        "        val_mask[n_train : n_train + n_val] = True\n",
        "        test_mask[n_train + n_val :] = True\n",
        "        self.graph.ndata[\"train_mask\"] = train_mask\n",
        "        self.graph.ndata[\"val_mask\"] = val_mask\n",
        "        self.graph.ndata[\"test_mask\"] = test_mask\n",
        "\n",
        "    def __getitem__(self, i):\n",
        "        return self.graph # i番目といいつつ使うのは1グラフのみ\n",
        "\n",
        "    def __len__(self):\n",
        "        return 1\n",
        "\n",
        "\n",
        "dataset = KarateClubDataset()\n",
        "graph = dataset[0]\n",
        "\n",
        "print(graph)"
      ]
    },
    {
      "cell_type": "markdown",
      "metadata": {},
      "source": [
        "リンク予測データセットは1つのグラフのみを含むため、リンク予測データセットの作成はノード分類データセットと同じ前処理プロセスになる。"
      ]
    },
    {
      "cell_type": "markdown",
      "metadata": {},
      "source": [
        "## CSV からグラフ分類のためのデータセットを作成する\n",
        "\n",
        "グラフ分類データセットを作成するには、``__getitem__`` を実装して、グラフとグラフレベルのラベルの両方を返す必要がある。\n",
        "\n",
        "このチュートリアルでは、以下の合成CSVデータを使用して、グラフ分類データセットを作成する方法を示す。\n",
        "\n",
        "-  ``graph_edges.csv``: 3つのカラムを持つ:\n",
        "\n",
        "   -  ``graph_id``: グラフのID\n",
        "   -  ``src``: ソースノード\n",
        "   -  ``dst``: ターゲットノード\n",
        "\n",
        "-  ``graph_properties.csv``: 3つのカラムを持つ:\n",
        "\n",
        "   -  ``graph_id``: グラフのID\n",
        "   -  ``label``: グラフのラベル\n",
        "   -  ``num_nodes``: グラフにおけるノードの数"
      ]
    },
    {
      "cell_type": "code",
      "execution_count": 8,
      "metadata": {
        "collapsed": false
      },
      "outputs": [
        {
          "name": "stdout",
          "output_type": "stream",
          "text": [
            "Graph(num_nodes=15, num_edges=45,\n",
            "      ndata_schemes={}\n",
            "      edata_schemes={}) tensor(0)\n"
          ]
        }
      ],
      "source": [
        "urllib.request.urlretrieve(\n",
        "    \"https://data.dgl.ai/tutorial/dataset/graph_edges.csv\", \"./graph_edges.csv\"\n",
        ")\n",
        "urllib.request.urlretrieve(\n",
        "    \"https://data.dgl.ai/tutorial/dataset/graph_properties.csv\",\n",
        "    \"./graph_properties.csv\",\n",
        ")\n",
        "edges = pd.read_csv(\"./graph_edges.csv\")\n",
        "properties = pd.read_csv(\"./graph_properties.csv\")\n",
        "\n",
        "edges.head()\n",
        "\n",
        "properties.head()\n",
        "\n",
        "\n",
        "class SyntheticDataset(DGLDataset): # 合成データセットの作成\n",
        "    def __init__(self):\n",
        "        super().__init__(name=\"synthetic\")\n",
        "\n",
        "    def process(self):\n",
        "        edges = pd.read_csv(\"./graph_edges.csv\")\n",
        "        properties = pd.read_csv(\"./graph_properties.csv\")\n",
        "        self.graphs = []\n",
        "        self.labels = []\n",
        "\n",
        "        # エッジテーブルから各グラフIDに対してグラフを作成する\n",
        "        # まず、プロパティテーブルをグラフIDをキーとする2つの辞書に変換する\n",
        "        # ラベルとノード数が値となる\n",
        "        label_dict = {}\n",
        "        num_nodes_dict = {}\n",
        "        for _, row in properties.iterrows():\n",
        "            label_dict[row[\"graph_id\"]] = row[\"label\"]\n",
        "            num_nodes_dict[row[\"graph_id\"]] = row[\"num_nodes\"]\n",
        "\n",
        "        # エッジについては、まずグラフIDでテーブルをグループ化する\n",
        "        edges_group = edges.groupby(\"graph_id\")\n",
        "\n",
        "        # 各グラフIDについて...\n",
        "        for graph_id in edges_group.groups:\n",
        "            # エッジとノード数とラベルを取得する。\n",
        "            edges_of_id = edges_group.get_group(graph_id)\n",
        "            src = edges_of_id[\"src\"].to_numpy()\n",
        "            dst = edges_of_id[\"dst\"].to_numpy()\n",
        "            num_nodes = num_nodes_dict[graph_id]\n",
        "            label = label_dict[graph_id]\n",
        "\n",
        "            # グラフを構築し、グラフリストとラベルリストに追加する\n",
        "            g = dgl.graph((src, dst), num_nodes=num_nodes)\n",
        "            self.graphs.append(g)\n",
        "            self.labels.append(label)\n",
        "            \n",
        "        # ラベルリストを保存するためにテンソルに変換する\n",
        "        self.labels = torch.LongTensor(self.labels)\n",
        "\n",
        "    def __getitem__(self, i):\n",
        "        return self.graphs[i], self.labels[i] # グラフ分類のときとは異なり、i番目のグラフとラベルを返す\n",
        "\n",
        "    def __len__(self):\n",
        "        return len(self.graphs)\n",
        "\n",
        "\n",
        "dataset = SyntheticDataset()\n",
        "graph, label = dataset[0]\n",
        "print(graph, label)"
      ]
    },
    {
      "cell_type": "markdown",
      "metadata": {},
      "source": [
        "## CSVから:class:`~dgl.data.CSVDataset`を使ってデータセットを作成する\n",
        "\n",
        "\n",
        "これまでの例では、CSVファイルからデータセットを作成する手順を説明した。  \n",
        "DGLは、CSVファイルからデータを読み込み、解析するためのユーティリティクラス:class:`~dgl.data.CSVDataset`を提供している。  \n",
        "詳細は `guide-data-pipeline-loadcsv` を参照。"
      ]
    },
    {
      "cell_type": "code",
      "execution_count": null,
      "metadata": {
        "collapsed": false
      },
      "outputs": [],
      "source": [
        "# Thumbnail credits: (Un)common Use Cases for Graph Databases, Michal Bachman\n",
        "# sphinx_gallery_thumbnail_path = '_static/blitz_6_load_data.png'"
      ]
    }
  ],
  "metadata": {
    "kernelspec": {
      "display_name": "Python 3",
      "language": "python",
      "name": "python3"
    },
    "language_info": {
      "codemirror_mode": {
        "name": "ipython",
        "version": 3
      },
      "file_extension": ".py",
      "mimetype": "text/x-python",
      "name": "python",
      "nbconvert_exporter": "python",
      "pygments_lexer": "ipython3",
      "version": "3.11.8"
    }
  },
  "nbformat": 4,
  "nbformat_minor": 0
}
