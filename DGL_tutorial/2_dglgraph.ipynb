{
  "cells": [
    {
      "cell_type": "markdown",
      "metadata": {},
      "source": [
        "1. dgl\n",
        "2. torch_geometric\n",
        "3. networkx\n",
        "4. MLP 佐藤先生　「グラフニューラルネットワーク」\n",
        "5. ヤオ・マー　「グラフ深層学習」\n",
        "6. ビショップ　\"Deep Learning\""
      ]
    },
    {
      "cell_type": "markdown",
      "metadata": {},
      "source": [
        "# 第二章　グラフの表現方法\n",
        "\n",
        "このチュートリアルでは、以下の内容を学ぶ。\n",
        "\n",
        "- DGLを使用してグラフをゼロから構築する。\n",
        "- グラフにノードとエッジの特徴を割り当てる。\n",
        "- ノードの次数や接続性など、DGLグラフのプロパティを抽出する。\n",
        "- DGLグラフを別のグラフに変換する。\n",
        "- DGLグラフをロードして保存する。"
      ]
    },
    {
      "cell_type": "markdown",
      "metadata": {},
      "source": [
        "## DGLを用いたグラフの構築\n",
        "\n",
        "DGLは、```DGLGraph```オブジェクトとして有向グラフを表す。  \n",
        "グラフのノード数とソースノードとターゲットノードのリストを指定してグラフを構築することができる。  \n",
        "グラフのノードは、0から始まる連続したIDを持る。  \n",
        "\n",
        "例えば、次のコードは、5つの葉を持つ有向スターグラフを構築する。  \n",
        "中心ノードのIDは0で、エッジは中心ノードから葉に向かう。  "
      ]
    },
    {
      "cell_type": "markdown",
      "metadata": {},
      "source": [
        "# DGLとは?\n",
        "\n",
        "AWSが開発しているPytorch-basedの(Tensorflowもサポート)グラフを対称としたライブラリです。"
      ]
    },
    {
      "cell_type": "code",
      "execution_count": 1,
      "metadata": {},
      "outputs": [],
      "source": [
        "# ライブラリのインポート\n",
        "import os\n",
        "\n",
        "os.environ[\"DGLBACKEND\"] = \"pytorch\" # バックエンドとしてPytorch, Tensorflow, MXNetを指定可能。今回はPytorch\n",
        "import dgl\n",
        "import numpy as np\n",
        "import torch"
      ]
    },
    {
      "cell_type": "code",
      "execution_count": 13,
      "metadata": {},
      "outputs": [],
      "source": [
        "# グラフオブジェクトの作成\n",
        "g = dgl.graph(data=([0, 0, 0, 0, 0,], [1, 2, 3, 4, 5]), num_nodes=6) # 6つのノードと5つのエッジを持つスターグラフ\n",
        "\n",
        "# あるいは、torch.Tensorを使っても作成可能  \n",
        "g = dgl.graph(data=(torch.tensor([0, 0, 0, 0, 0,]), torch.tensor([1, 2, 3, 4, 5])), num_nodes=6) # 6つのノードと5つのエッジを持つスターグラフ\n",
        "\n",
        "# num_nodesを指定しない場合は、エッジリストから自動的にノード数を決定\n",
        "g = dgl.graph(data=([0, 0, 0, 0, 0,], [1, 2, 3, 4, 5])) # 6つのノードと5つのエッジを持つスターグラフ    "
      ]
    },
    {
      "cell_type": "code",
      "execution_count": 14,
      "metadata": {},
      "outputs": [
        {
          "data": {
            "text/plain": [
              "6"
            ]
          },
          "execution_count": 14,
          "metadata": {},
          "output_type": "execute_result"
        }
      ],
      "source": [
        "g.num_nodes()"
      ]
    },
    {
      "cell_type": "code",
      "execution_count": 15,
      "metadata": {},
      "outputs": [
        {
          "data": {
            "text/plain": [
              "dgl.heterograph.DGLGraph"
            ]
          },
          "execution_count": 15,
          "metadata": {},
          "output_type": "execute_result"
        }
      ],
      "source": [
        "type(g) # グラフオブジェクトの型を確認"
      ]
    },
    {
      "cell_type": "markdown",
      "metadata": {},
      "source": [
        "**これらはすべて同じグラフを表している**"
      ]
    },
    {
      "cell_type": "markdown",
      "metadata": {},
      "source": [
        "グラフ内のエッジは、0から始まる連続したIDを持ち、作成時にソースノードとターゲットノードのリストと同じ順序で配置される。\n",
        "\n"
      ]
    },
    {
      "cell_type": "code",
      "execution_count": 16,
      "metadata": {
        "collapsed": false
      },
      "outputs": [
        {
          "name": "stdout",
          "output_type": "stream",
          "text": [
            "(tensor([0, 0, 0, 0, 0]), tensor([1, 2, 3, 4, 5]))\n"
          ]
        }
      ],
      "source": [
        "# Print the source and destination nodes of every edge.\n",
        "print(g.edges())"
      ]
    },
    {
      "cell_type": "markdown",
      "metadata": {},
      "source": [
        "# グラフの可視化\n",
        "\n",
        "networkxを使用してグラフを可視化することができる。"
      ]
    },
    {
      "cell_type": "code",
      "execution_count": 17,
      "metadata": {},
      "outputs": [
        {
          "data": {
            "image/png": "[encoded data removed]",
            "text/plain": [
              "<Figure size 640x480 with 1 Axes>"
            ]
          },
          "metadata": {},
          "output_type": "display_data"
        }
      ],
      "source": [
        "import networkx as nx\n",
        "try:\n",
        "    import matplotlib.pyplot as plt\n",
        "except:\n",
        "    !pip install matplotlib\n",
        "\n",
        "# DGLグラフをNetworkXグラフに変換\n",
        "nx_g = g.to_networkx()\n",
        "# NetworkXグラフを描画\n",
        "nx.draw(nx_g, with_labels=True)"
      ]
    },
    {
      "cell_type": "markdown",
      "metadata": {},
      "source": [
        "<div class=\"alert alert-info\"><h4>Note</h4><p>``DGLGraph``'s are always directed to best fit the computation\n",
        "   pattern of graph neural networks, where the messages sent\n",
        "   from one node to the other are often different between both\n",
        "   directions. If you want to handle undirected graphs, you may consider\n",
        "   treating it as a bidirectional graph. See `Graph\n",
        "   Transformations`_ for an example of making\n",
        "   a bidirectional graph.</p></div>\n",
        "\n",
        "\n"
      ]
    },
    {
      "cell_type": "markdown",
      "metadata": {},
      "source": [
        "## グラフにノードとエッジの特徴量を割り当てる\n",
        "\n",
        "多くのグラフデータには、ノードとエッジに属性が含まれている。  \n",
        "実世界では、ノードやエッジの属性の種類は任意だが、``DGLGraph`` はテンソル（数値の内容を持つ）に格納された属性のみを受け入れる。  \n",
        "そのため、すべてのノードやエッジの属性は同じ形状を持たなければならない。  \n",
        "深層学習の文脈では、これらの属性はしばしば*特徴量*と呼ばれる。\n",
        "\n",
        "\n",
        "特徴量は、``ndata`` と ``edata`` インターフェイスを介してそれぞれノードとエッジの特徴を割り当てて取得することができる。\n"
      ]
    },
    {
      "cell_type": "code",
      "execution_count": 18,
      "metadata": {
        "collapsed": false
      },
      "outputs": [
        {
          "name": "stdout",
          "output_type": "stream",
          "text": [
            "tensor([[ 0.2513, -0.8722, -1.2169, -0.4538],\n",
            "        [-1.5571,  0.2657, -1.2836,  0.1658],\n",
            "        [ 0.9459, -0.0913,  0.6221,  0.4202],\n",
            "        [-0.4265, -2.7702,  0.2505, -0.5672],\n",
            "        [ 1.8105, -0.2867,  0.8203, -1.5970]])\n"
          ]
        }
      ],
      "source": [
        "# 各ノードに3次元の特徴ベクトルを割り当てる\n",
        "g.ndata[\"x\"] = torch.randn(6, 3)\n",
        "# 各エッジに4次元の特徴ベクトルを割り当てる\n",
        "g.edata[\"a\"] = torch.randn(5, 4)\n",
        "# 各ノードに5x4の特徴行列を割り当てる。DGLのノードとエッジの特徴は多次元のものも扱える。\n",
        "g.ndata[\"y\"] = torch.randn(6, 5, 4)\n",
        "\n",
        "print(g.edata[\"a\"])"
      ]
    },
    {
      "cell_type": "markdown",
      "metadata": {},
      "source": [
        "<div class=\"alert alert-info\"><h4>Note</h4><p>The vast development of deep learning has provided us many\n",
        "   ways to encode various types of attributes into numerical features.\n",
        "   Here are some general suggestions:\n",
        "\n",
        "   -  For categorical attributes (e.g. gender, occupation), consider\n",
        "      converting them to integers or one-hot encoding.\n",
        "   -  For variable length string contents (e.g. news article, quote),\n",
        "      consider applying a language model.\n",
        "   -  For images, consider applying a vision model such as CNNs.\n",
        "\n",
        "   You can find plenty of materials on how to encode such attributes\n",
        "   into a tensor in the [PyTorch Deep Learning\n",
        "   Tutorials](https://pytorch.org/tutorials/)_.</p></div>\n",
        "\n",
        "\n"
      ]
    },
    {
      "cell_type": "markdown",
      "metadata": {},
      "source": [
        "## グラフ構造から情報を抽出する\n",
        "\n",
        "``DGLGraph`` オブジェクトから、グラフ構造に関わる情報を取得できる。"
      ]
    },
    {
      "cell_type": "code",
      "execution_count": 19,
      "metadata": {
        "collapsed": false
      },
      "outputs": [
        {
          "name": "stdout",
          "output_type": "stream",
          "text": [
            "6\n",
            "5\n",
            "5\n",
            "0\n"
          ]
        }
      ],
      "source": [
        "print(g.num_nodes()) # ノード数を確認\n",
        "print(g.num_edges()) # エッジ数を確認\n",
        "# 中心ノードの出次数 (out degree) を確認\n",
        "print(g.out_degrees(0))\n",
        "# 中心ノードの入次数 (in degree) を確認\n",
        "print(g.in_degrees(0))"
      ]
    },
    {
      "cell_type": "markdown",
      "metadata": {},
      "source": [
        "## グラフ変換\n",
        "\n",
        "\n"
      ]
    },
    {
      "cell_type": "markdown",
      "metadata": {},
      "source": [
        "DGLは、グラフを別のグラフに変換するための多くのAPIを提供している。"
      ]
    },
    {
      "cell_type": "code",
      "execution_count": 20,
      "metadata": {
        "collapsed": false
      },
      "outputs": [],
      "source": [
        "# グラフからノード0, ノード1, ノード3を抽出してサブグラフを作成\n",
        "sg1 = g.subgraph([0, 1, 3]) # ノード0, ノード1, ノード3を抽出\n",
        "# グラフからエッジ0, エッジ1, エッジ3を抽出してサブグラフを作成\n",
        "sg2 = g.edge_subgraph([0, 1, 3])"
      ]
    },
    {
      "cell_type": "code",
      "execution_count": 21,
      "metadata": {},
      "outputs": [
        {
          "data": {
            "image/png": "[encoded data removed]",
            "text/plain": [
              "<Figure size 640x480 with 1 Axes>"
            ]
          },
          "metadata": {},
          "output_type": "display_data"
        }
      ],
      "source": [
        "# DGLグラフをNetworkXグラフに変換\n",
        "nx_sg1 = sg1.to_networkx()\n",
        "# NetworkXグラフを描画\n",
        "nx.draw(nx_sg1, with_labels=True)"
      ]
    },
    {
      "cell_type": "code",
      "execution_count": 22,
      "metadata": {},
      "outputs": [
        {
          "data": {
            "image/png": "[encoded data removed]",
            "text/plain": [
              "<Figure size 640x480 with 1 Axes>"
            ]
          },
          "metadata": {},
          "output_type": "display_data"
        }
      ],
      "source": [
        "nx_sg2 = sg2.to_networkx()\n",
        "# NetworkXグラフを描画\n",
        "nx.draw(nx_sg2, with_labels=True)"
      ]
    },
    {
      "cell_type": "markdown",
      "metadata": {},
      "source": [
        "新しいグラフ内のノード/エッジのマッピングを、新しいグラフ内のノード特徴``dgl.NID``またはエッジ特徴``dgl.EID``を見ることで取得することができる。"
      ]
    },
    {
      "cell_type": "code",
      "execution_count": 23,
      "metadata": {
        "collapsed": false
      },
      "outputs": [
        {
          "name": "stdout",
          "output_type": "stream",
          "text": [
            "tensor([0, 1, 3])\n",
            "tensor([0, 2])\n",
            "tensor([0, 1, 2, 4])\n",
            "tensor([0, 1, 3])\n"
          ]
        }
      ],
      "source": [
        "# サブグラフsg1の各ノードの元のID\n",
        "print(sg1.ndata[dgl.NID])\n",
        "# サブグラフsg1の各エッジの元のID\n",
        "print(sg1.edata[dgl.EID])\n",
        "# サブグラフsg2の各ノードの元のID\n",
        "print(sg2.ndata[dgl.NID])\n",
        "# サブグラフsg2の各エッジの元のID\n",
        "print(sg2.edata[dgl.EID])"
      ]
    },
    {
      "cell_type": "markdown",
      "metadata": {},
      "source": [
        "```subgrapg``` と ```edge_subgraph``` は、元の特徴をサブグラフに複製している"
      ]
    },
    {
      "cell_type": "code",
      "execution_count": 28,
      "metadata": {
        "collapsed": false
      },
      "outputs": [
        {
          "name": "stdout",
          "output_type": "stream",
          "text": [
            "tensor([[-0.6215, -0.1593,  1.5185],\n",
            "        [ 0.0481, -0.1835, -0.3256],\n",
            "        [-0.0320, -1.9963, -0.6372]])\n",
            "tensor([[ 0.2513, -0.8722, -1.2169, -0.4538],\n",
            "        [ 0.9459, -0.0913,  0.6221,  0.4202]])\n",
            "tensor([[-0.6215, -0.1593,  1.5185],\n",
            "        [ 0.0481, -0.1835, -0.3256],\n",
            "        [ 0.3945, -0.6825, -0.0131],\n",
            "        [-0.7535, -0.8769, -0.1957]])\n",
            "tensor([[ 0.2513, -0.8722, -1.2169, -0.4538],\n",
            "        [-1.5571,  0.2657, -1.2836,  0.1658],\n",
            "        [-0.4265, -2.7702,  0.2505, -0.5672]])\n"
          ]
        }
      ],
      "source": [
        "# The original node feature of each node in sg1\n",
        "print(sg1.ndata[\"x\"])\n",
        "# The original edge feature of each node in sg1\n",
        "print(sg1.edata[\"a\"])\n",
        "# The original node feature of each node in sg2\n",
        "print(sg2.ndata[\"x\"])\n",
        "# The original edge feature of each node in sg2\n",
        "print(sg2.edata[\"a\"])"
      ]
    },
    {
      "cell_type": "markdown",
      "metadata": {},
      "source": [
        "よくある変換のもう一つは、元のグラフの各エッジに対して``dgl.add_reverse_edges``を用いて逆向きのエッジを追加することである。\n",
        "\n",
        "\n",
        "<div class=\"alert alert-info\"><h4>Note</h4><p>If you have an undirected graph, it is better to convert it\n",
        "   into a bidirectional graph first via adding reverse edges.</p></div>\n",
        "\n",
        "\n"
      ]
    },
    {
      "cell_type": "code",
      "execution_count": 40,
      "metadata": {
        "collapsed": false
      },
      "outputs": [
        {
          "name": "stdout",
          "output_type": "stream",
          "text": [
            "(tensor([0, 0, 0, 0, 0, 1, 2, 3, 4, 5]), tensor([1, 2, 3, 4, 5, 0, 0, 0, 0, 0]))\n"
          ]
        }
      ],
      "source": [
        "# 無向グラフを作成するために、逆向きのエッジを追加\n",
        "newg = dgl.add_reverse_edges(g)\n",
        "print(newg.edges())"
      ]
    },
    {
      "cell_type": "code",
      "execution_count": 42,
      "metadata": {},
      "outputs": [
        {
          "data": {
            "image/png": "[encoded data removed]",
            "text/plain": [
              "<Figure size 640x480 with 1 Axes>"
            ]
          },
          "metadata": {},
          "output_type": "display_data"
        }
      ],
      "source": [
        "nx_newg = newg.to_networkx()\n",
        "# NetworkXグラフを描画\n",
        "nx.draw(nx_newg, with_labels=True)"
      ]
    },
    {
      "cell_type": "markdown",
      "metadata": {},
      "source": [
        "## グラフの保存と読み込み\n",
        "\n",
        "グラフ、あるいはグラフのリストは、```dgl.save_graphs```で保存し、```dgl.load_graphs```で読み込むことができる。"
      ]
    },
    {
      "cell_type": "code",
      "execution_count": 11,
      "metadata": {
        "collapsed": false
      },
      "outputs": [
        {
          "name": "stdout",
          "output_type": "stream",
          "text": [
            "Graph(num_nodes=6, num_edges=5,\n",
            "      ndata_schemes={'y': Scheme(shape=(5, 4), dtype=torch.float32), 'x': Scheme(shape=(3,), dtype=torch.float32)}\n",
            "      edata_schemes={'a': Scheme(shape=(4,), dtype=torch.float32)})\n",
            "Graph(num_nodes=6, num_edges=5,\n",
            "      ndata_schemes={'y': Scheme(shape=(5, 4), dtype=torch.float32), 'x': Scheme(shape=(3,), dtype=torch.float32)}\n",
            "      edata_schemes={'a': Scheme(shape=(4,), dtype=torch.float32)})\n",
            "Graph(num_nodes=3, num_edges=2,\n",
            "      ndata_schemes={'_ID': Scheme(shape=(), dtype=torch.int64), 'y': Scheme(shape=(5, 4), dtype=torch.float32), 'x': Scheme(shape=(3,), dtype=torch.float32)}\n",
            "      edata_schemes={'_ID': Scheme(shape=(), dtype=torch.int64), 'a': Scheme(shape=(4,), dtype=torch.float32)})\n",
            "Graph(num_nodes=4, num_edges=3,\n",
            "      ndata_schemes={'_ID': Scheme(shape=(), dtype=torch.int64), 'y': Scheme(shape=(5, 4), dtype=torch.float32), 'x': Scheme(shape=(3,), dtype=torch.float32)}\n",
            "      edata_schemes={'_ID': Scheme(shape=(), dtype=torch.int64), 'a': Scheme(shape=(4,), dtype=torch.float32)})\n"
          ]
        }
      ],
      "source": [
        "# グラフを保存\n",
        "dgl.save_graphs(\"graph.dgl\", g)\n",
        "dgl.save_graphs(\"graphs.dgl\", [g, sg1, sg2])\n",
        "\n",
        "# グラフを読み込み\n",
        "(g,), _ = dgl.load_graphs(\"graph.dgl\")\n",
        "print(g)\n",
        "(g, sg1, sg2), _ = dgl.load_graphs(\"graphs.dgl\")\n",
        "print(g)\n",
        "print(sg1)\n",
        "print(sg2)"
      ]
    },
    {
      "cell_type": "markdown",
      "metadata": {},
      "source": [
        "## What’s next?\n",
        "\n",
        "-  See\n",
        "   `here <apigraph-querying-graph-structure>`\n",
        "   for a list of graph structure query APIs.\n",
        "-  See\n",
        "   `here <api-subgraph-extraction>`\n",
        "   for a list of subgraph extraction routines.\n",
        "-  See\n",
        "   `here <api-transform>`\n",
        "   for a list of graph transformation routines.\n",
        "-  API reference of :func:`dgl.save_graphs`\n",
        "   and\n",
        "   :func:`dgl.load_graphs`\n",
        "\n",
        "\n"
      ]
    },
    {
      "cell_type": "code",
      "execution_count": 12,
      "metadata": {
        "collapsed": false
      },
      "outputs": [],
      "source": [
        "# Thumbnail credits: Wikipedia\n",
        "# sphinx_gallery_thumbnail_path = '_static/blitz_2_dglgraph.png'"
      ]
    },
    {
      "cell_type": "code",
      "execution_count": null,
      "metadata": {},
      "outputs": [],
      "source": []
    }
  ],
  "metadata": {
    "kernelspec": {
      "display_name": "Python 3",
      "language": "python",
      "name": "python3"
    },
    "language_info": {
      "codemirror_mode": {
        "name": "ipython",
        "version": 3
      },
      "file_extension": ".py",
      "mimetype": "text/x-python",
      "name": "python",
      "nbconvert_exporter": "python",
      "pygments_lexer": "ipython3",
      "version": "3.11.8"
    }
  },
  "nbformat": 4,
  "nbformat_minor": 0
}
