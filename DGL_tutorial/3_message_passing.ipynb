{
  "cells": [
    {
      "cell_type": "markdown",
      "metadata": {},
      "source": [
        "# GNN モジュールの作成\n",
        "\n",
        "GNNモデルを作成する際、既存のGNNモジュールを単純に積み重ねるだけでは不十分な場合がある。\n",
        "例えば、ノードの重要性やエッジの重みを考慮して隣接情報を集約する新しい方法を考案したいときがある。\n",
        "\n",
        "このチュートリアルでは、以下のことを学ぶ。\n",
        "\n",
        "- DGLのメッセージパッシングAPIを理解する。\n",
        "- 自分でGraphSAGE畳み込みモジュールを実装する。\n",
        "\n",
        "\n",
        "このチュートリアルは、すでに :doc:`<1_introduction>`を理解していることを前提としています。"
      ]
    },
    {
      "cell_type": "code",
      "execution_count": 1,
      "metadata": {
        "collapsed": false
      },
      "outputs": [],
      "source": [
        "import os\n",
        "\n",
        "os.environ[\"DGLBACKEND\"] = \"pytorch\"\n",
        "import dgl\n",
        "import dgl.function as fn\n",
        "import torch\n",
        "import torch.nn as nn\n",
        "import torch.nn.functional as F"
      ]
    },
    {
      "cell_type": "markdown",
      "metadata": {},
      "source": [
        "## メッセージパッシングとGNN\n",
        "\n",
        "DGLは、[Gilmer et al.](https://arxiv.org/abs/1704.01212)によって提案されたメッセージパッシングニューラルネットワークに触発された*メッセージパッシングパラダイム*に従う。基本的に、彼らは多くのGNNモデルが以下のフレームワークに適合することを示した。\n",
        "\n",
        "\\begin{align}m_{u\\to v}^{(l)} = M^{(l)}\\left(h_v^{(l-1)}, h_u^{(l-1)}, e_{u\\to v}^{(l-1)}\\right)\\end{align}\n",
        "\n",
        "\\begin{align}m_{v}^{(l)} = \\sum_{u\\in\\mathcal{N}(v)}m_{u\\to v}^{(l)}\\end{align}\n",
        "\n",
        "\\begin{align}h_v^{(l)} = U^{(l)}\\left(h_v^{(l-1)}, m_v^{(l)}\\right)\\end{align}\n",
        "\n",
        "\n",
        "ここで、$M^{(l)}$を*メッセージ関数*、$\\sum$を*集約関数*、$U^{(l)}$を*更新関数*と呼ぶ。ここでの$\\sum$は任意の関数を表すことができ、必ずしも総和である必要はない。\n",
        "\n"
      ]
    },
    {
      "cell_type": "markdown",
      "metadata": {},
      "source": [
        "例えば、[GraphSAGE畳み込み (Hamilton et al., 2017)](https://cs.stanford.edu/people/jure/pubs/graphsage-nips17.pdf)は以下の数式で表される。\n",
        "\n",
        "\\begin{align}h_{\\mathcal{N}(v)}^k\\leftarrow \\text{Average}\\{h_u^{k-1},\\forall u\\in\\mathcal{N}(v)\\}\\end{align}\n",
        "\n",
        "\\begin{align}h_v^k\\leftarrow \\text{ReLU}\\left(W^k\\cdot \\text{CONCAT}(h_v^{k-1}, h_{\\mathcal{N}(v)}^k) \\right)\\end{align}\n",
        "\n",
        "ここでのメッセージパッシングには、方向性がある。  \n",
        "一般にノード$u$からノード$v$に送信されるメッセージは、逆方向のノード$v$からノード$u$に送信されるメッセージとは異なる場合がある。\n",
        "\n",
        "DGLは、:class:`dgl.nn.SAGEConv <dgl.nn.pytorch.SAGEConv>`を介してGraphSAGEをサポートしているが、  \n",
        "以下に、自分でGraphSAGE畳み込みを実装する方法を示す。"
      ]
    },
    {
      "cell_type": "code",
      "execution_count": 2,
      "metadata": {
        "collapsed": false
      },
      "outputs": [],
      "source": [
        "class SAGEConv(nn.Module):\n",
        "    \"\"\"Graph convolution module used by the GraphSAGE model.\n",
        "\n",
        "    Parameters\n",
        "    ----------\n",
        "    in_feat : int\n",
        "        Input feature size.\n",
        "    out_feat : int\n",
        "        Output feature size.\n",
        "    \"\"\"\n",
        "\n",
        "    def __init__(self, in_feat, out_feat):\n",
        "        super(SAGEConv, self).__init__()\n",
        "        # A linear submodule for projecting the input and neighbor feature to the output.\n",
        "        self.linear = nn.Linear(in_feat * 2, out_feat)\n",
        "\n",
        "    def forward(self, g, h):\n",
        "        \"\"\"Forward computation\n",
        "\n",
        "        Parameters\n",
        "        ----------\n",
        "        g : Graph\n",
        "            The input graph.\n",
        "        h : Tensor\n",
        "            The input node feature.\n",
        "        \"\"\"\n",
        "        with g.local_scope():\n",
        "            g.ndata[\"h\"] = h\n",
        "            # update_all でメッセージの集約を行う\n",
        "            g.update_all(\n",
        "                message_func=fn.copy_u(\"h\", \"m\"),\n",
        "                reduce_func=fn.mean(\"m\", \"h_N\"),\n",
        "            )\n",
        "            h_N = g.ndata[\"h_N\"]\n",
        "            h_total = torch.cat([h, h_N], dim=1)\n",
        "            return self.linear(h_total)"
      ]
    },
    {
      "cell_type": "markdown",
      "metadata": {},
      "source": [
        "このコードの中心部分は、:func:`g.update_all <dgl.DGLGraph.update_all>`関数である。\n",
        "この関数は、隣接ノードの特徴を集めて平均化する。`update_all`関数には3つの概念がある。\n",
        "\n",
        "* メッセージ関数``fn.copy_u('h', 'm)``は、ノード特徴を名前``'h'``で*メッセージ*としてコピーし、  \n",
        "  隣接ノードに名前``'m'``で送信する。\n",
        "\n",
        "* 集約関数は、```fn.mean('m', 'h_N')``` で、名前``'m'``で受信したすべてのメッセージを平均化し、  \n",
        "  新しいノード特徴``'h_N'``として保存する。\n",
        "\n",
        "* ``update_all`` は、DGLにすべてのノードとエッジに対してメッセージと集約関数を呼び出すように指示する。\n",
        "\n",
        "このコードの中心部分は、:func:`g.update_all <dgl.DGLGraph.update_all>`関数である。  \n",
        ":func:`g.update_all <dgl.DGLGraph.update_all>`関数は、隣接ノードの特徴を集めて平均化する。"
      ]
    },
    {
      "cell_type": "markdown",
      "metadata": {},
      "source": [
        "その後、自分のGraphSAGE畳み込み層を積み重ねて、多層のGraphSAGEネットワークを作成できる。"
      ]
    },
    {
      "cell_type": "code",
      "execution_count": 3,
      "metadata": {
        "collapsed": false
      },
      "outputs": [],
      "source": [
        "class Model(nn.Module):\n",
        "    def __init__(self, in_feats, h_feats, num_classes):\n",
        "        super(Model, self).__init__()\n",
        "        self.conv1 = SAGEConv(in_feats, h_feats)\n",
        "        self.conv2 = SAGEConv(h_feats, num_classes)\n",
        "\n",
        "    def forward(self, g, in_feat):\n",
        "        h = self.conv1(g, in_feat)\n",
        "        h = F.relu(h)\n",
        "        h = self.conv2(g, h)\n",
        "        return h"
      ]
    },
    {
      "cell_type": "markdown",
      "metadata": {},
      "source": [
        "### 学習ループ   \n",
        "以下のデータロードと学習ループのコードは、`1_introduction.ipynb` からコピーされています。  "
      ]
    },
    {
      "cell_type": "code",
      "execution_count": 5,
      "metadata": {},
      "outputs": [
        {
          "data": {
            "text/plain": [
              "tensor([ True,  True,  True,  ..., False, False, False])"
            ]
          },
          "execution_count": 5,
          "metadata": {},
          "output_type": "execute_result"
        }
      ],
      "source": [
        "g.ndata[\"train_mask\"]"
      ]
    },
    {
      "cell_type": "code",
      "execution_count": 6,
      "metadata": {},
      "outputs": [
        {
          "data": {
            "text/plain": [
              "tensor([False, False, False,  ..., False, False, False])"
            ]
          },
          "execution_count": 6,
          "metadata": {},
          "output_type": "execute_result"
        }
      ],
      "source": [
        "g.ndata[\"val_mask\"]"
      ]
    },
    {
      "cell_type": "code",
      "execution_count": 7,
      "metadata": {},
      "outputs": [
        {
          "data": {
            "text/plain": [
              "tensor([False, False, False,  ...,  True,  True,  True])"
            ]
          },
          "execution_count": 7,
          "metadata": {},
          "output_type": "execute_result"
        }
      ],
      "source": [
        "g.ndata[\"test_mask\"]"
      ]
    },
    {
      "cell_type": "code",
      "execution_count": 4,
      "metadata": {
        "collapsed": false
      },
      "outputs": [
        {
          "name": "stdout",
          "output_type": "stream",
          "text": [
            "  NumNodes: 2708\n",
            "  NumEdges: 10556\n",
            "  NumFeats: 1433\n",
            "  NumClasses: 7\n",
            "  NumTrainingSamples: 140\n",
            "  NumValidationSamples: 500\n",
            "  NumTestSamples: 1000\n",
            "Done loading data from cached files.\n",
            "In epoch 0, loss: 1.950, val acc: 0.058 (best 0.058), test acc: 0.064 (best 0.064)\n",
            "In epoch 5, loss: 1.878, val acc: 0.342 (best 0.342), test acc: 0.340 (best 0.340)\n",
            "In epoch 10, loss: 1.745, val acc: 0.450 (best 0.450), test acc: 0.418 (best 0.418)\n",
            "In epoch 15, loss: 1.547, val acc: 0.494 (best 0.494), test acc: 0.498 (best 0.489)\n",
            "In epoch 20, loss: 1.289, val acc: 0.560 (best 0.560), test acc: 0.545 (best 0.545)\n",
            "In epoch 25, loss: 0.995, val acc: 0.618 (best 0.618), test acc: 0.594 (best 0.594)\n",
            "In epoch 30, loss: 0.705, val acc: 0.674 (best 0.674), test acc: 0.653 (best 0.653)\n",
            "In epoch 35, loss: 0.461, val acc: 0.722 (best 0.722), test acc: 0.696 (best 0.696)\n",
            "In epoch 40, loss: 0.286, val acc: 0.748 (best 0.748), test acc: 0.720 (best 0.720)\n",
            "In epoch 45, loss: 0.175, val acc: 0.752 (best 0.752), test acc: 0.740 (best 0.737)\n",
            "In epoch 50, loss: 0.109, val acc: 0.766 (best 0.766), test acc: 0.753 (best 0.753)\n",
            "In epoch 55, loss: 0.071, val acc: 0.764 (best 0.768), test acc: 0.757 (best 0.752)\n",
            "In epoch 60, loss: 0.049, val acc: 0.758 (best 0.768), test acc: 0.756 (best 0.752)\n",
            "In epoch 65, loss: 0.036, val acc: 0.760 (best 0.768), test acc: 0.754 (best 0.752)\n",
            "In epoch 70, loss: 0.028, val acc: 0.760 (best 0.768), test acc: 0.753 (best 0.752)\n",
            "In epoch 75, loss: 0.022, val acc: 0.758 (best 0.768), test acc: 0.755 (best 0.752)\n",
            "In epoch 80, loss: 0.018, val acc: 0.756 (best 0.768), test acc: 0.751 (best 0.752)\n",
            "In epoch 85, loss: 0.016, val acc: 0.756 (best 0.768), test acc: 0.751 (best 0.752)\n",
            "In epoch 90, loss: 0.014, val acc: 0.756 (best 0.768), test acc: 0.754 (best 0.752)\n",
            "In epoch 95, loss: 0.012, val acc: 0.752 (best 0.768), test acc: 0.754 (best 0.752)\n",
            "In epoch 100, loss: 0.011, val acc: 0.752 (best 0.768), test acc: 0.753 (best 0.752)\n",
            "In epoch 105, loss: 0.010, val acc: 0.752 (best 0.768), test acc: 0.753 (best 0.752)\n",
            "In epoch 110, loss: 0.009, val acc: 0.752 (best 0.768), test acc: 0.753 (best 0.752)\n",
            "In epoch 115, loss: 0.009, val acc: 0.754 (best 0.768), test acc: 0.753 (best 0.752)\n",
            "In epoch 120, loss: 0.008, val acc: 0.756 (best 0.768), test acc: 0.752 (best 0.752)\n",
            "In epoch 125, loss: 0.007, val acc: 0.754 (best 0.768), test acc: 0.752 (best 0.752)\n",
            "In epoch 130, loss: 0.007, val acc: 0.752 (best 0.768), test acc: 0.752 (best 0.752)\n",
            "In epoch 135, loss: 0.006, val acc: 0.752 (best 0.768), test acc: 0.753 (best 0.752)\n",
            "In epoch 140, loss: 0.006, val acc: 0.752 (best 0.768), test acc: 0.754 (best 0.752)\n",
            "In epoch 145, loss: 0.006, val acc: 0.752 (best 0.768), test acc: 0.755 (best 0.752)\n",
            "In epoch 150, loss: 0.005, val acc: 0.752 (best 0.768), test acc: 0.755 (best 0.752)\n",
            "In epoch 155, loss: 0.005, val acc: 0.752 (best 0.768), test acc: 0.755 (best 0.752)\n",
            "In epoch 160, loss: 0.005, val acc: 0.752 (best 0.768), test acc: 0.756 (best 0.752)\n",
            "In epoch 165, loss: 0.005, val acc: 0.748 (best 0.768), test acc: 0.756 (best 0.752)\n",
            "In epoch 170, loss: 0.004, val acc: 0.750 (best 0.768), test acc: 0.755 (best 0.752)\n",
            "In epoch 175, loss: 0.004, val acc: 0.750 (best 0.768), test acc: 0.755 (best 0.752)\n",
            "In epoch 180, loss: 0.004, val acc: 0.750 (best 0.768), test acc: 0.755 (best 0.752)\n",
            "In epoch 185, loss: 0.004, val acc: 0.750 (best 0.768), test acc: 0.754 (best 0.752)\n",
            "In epoch 190, loss: 0.004, val acc: 0.750 (best 0.768), test acc: 0.754 (best 0.752)\n",
            "In epoch 195, loss: 0.003, val acc: 0.752 (best 0.768), test acc: 0.754 (best 0.752)\n"
          ]
        }
      ],
      "source": [
        "import dgl.data\n",
        "\n",
        "dataset = dgl.data.CoraGraphDataset()\n",
        "g = dataset[0]\n",
        "\n",
        "\n",
        "def train(g, model):\n",
        "    optimizer = torch.optim.Adam(model.parameters(), lr=0.01)\n",
        "    all_logits = []\n",
        "    best_val_acc = 0\n",
        "    best_test_acc = 0\n",
        "\n",
        "    features = g.ndata[\"feat\"]\n",
        "    labels = g.ndata[\"label\"]\n",
        "    train_mask = g.ndata[\"train_mask\"]\n",
        "    val_mask = g.ndata[\"val_mask\"]\n",
        "    test_mask = g.ndata[\"test_mask\"]\n",
        "    for e in range(200):\n",
        "        # Forward\n",
        "        logits = model(g, features)\n",
        "\n",
        "        # Compute prediction\n",
        "        pred = logits.argmax(1)\n",
        "\n",
        "        # Compute loss\n",
        "        # Note that we should only compute the losses of the nodes in the training set,\n",
        "        # i.e. with train_mask 1.\n",
        "        loss = F.cross_entropy(logits[train_mask], labels[train_mask])\n",
        "\n",
        "        # Compute accuracy on training/validation/test\n",
        "        train_acc = (pred[train_mask] == labels[train_mask]).float().mean()\n",
        "        val_acc = (pred[val_mask] == labels[val_mask]).float().mean()\n",
        "        test_acc = (pred[test_mask] == labels[test_mask]).float().mean()\n",
        "\n",
        "        # Save the best validation accuracy and the corresponding test accuracy.\n",
        "        if best_val_acc < val_acc:\n",
        "            best_val_acc = val_acc\n",
        "            best_test_acc = test_acc\n",
        "\n",
        "        # Backward\n",
        "        optimizer.zero_grad()\n",
        "        loss.backward()\n",
        "        optimizer.step()\n",
        "        all_logits.append(logits.detach())\n",
        "\n",
        "        if e % 5 == 0:\n",
        "            print(\n",
        "                \"In epoch {}, loss: {:.3f}, val acc: {:.3f} (best {:.3f}), test acc: {:.3f} (best {:.3f})\".format(\n",
        "                    e, loss, val_acc, best_val_acc, test_acc, best_test_acc\n",
        "                )\n",
        "            )\n",
        "\n",
        "\n",
        "model = Model(g.ndata[\"feat\"].shape[1], 16, dataset.num_classes)\n",
        "train(g, model)"
      ]
    },
    {
      "cell_type": "markdown",
      "metadata": {},
      "source": [
        "## さらにカスタマイズする\n",
        "\n",
        "DGLでは、``dgl.function``パッケージの下に多くの組み込みのメッセージと集約関数が用意されている。\n",
        "詳細は、`APIドキュメント <apifunction>`を参照してください。"
      ]
    },
    {
      "cell_type": "markdown",
      "metadata": {},
      "source": [
        "これらのAPIを使用すると、新しいグラフ畳み込みモジュールを迅速に実装できる。  \n",
        "例えば、以下は、重み付き平均を使用して隣接ノードの表現を集約する新しい ``SAGEConv`` を実装している。\n",
        "``edata``はエッジ特徴を保持でき、メッセージパッシングにも使用できる。"
      ]
    },
    {
      "cell_type": "code",
      "execution_count": 8,
      "metadata": {
        "collapsed": false
      },
      "outputs": [],
      "source": [
        "class WeightedSAGEConv(nn.Module):\n",
        "    \"\"\"Graph convolution module used by the GraphSAGE model with edge weights.\n",
        "\n",
        "    Parameters\n",
        "    ----------\n",
        "    in_feat : int\n",
        "        Input feature size.\n",
        "    out_feat : int\n",
        "        Output feature size.\n",
        "    \"\"\"\n",
        "\n",
        "    def __init__(self, in_feat, out_feat):\n",
        "        super(WeightedSAGEConv, self).__init__()\n",
        "        # A linear submodule for projecting the input and neighbor feature to the output.\n",
        "        self.linear = nn.Linear(in_feat * 2, out_feat)\n",
        "\n",
        "    def forward(self, g, h, w):\n",
        "        \"\"\"Forward computation\n",
        "\n",
        "        Parameters\n",
        "        ----------\n",
        "        g : Graph\n",
        "            The input graph.\n",
        "        h : Tensor\n",
        "            The input node feature.\n",
        "        w : Tensor\n",
        "            The edge weight.\n",
        "        \"\"\"\n",
        "        with g.local_scope():\n",
        "            g.ndata[\"h\"] = h\n",
        "            g.edata[\"w\"] = w\n",
        "            g.update_all(\n",
        "                message_func=fn.u_mul_e(\"h\", \"w\", \"m\"),\n",
        "                reduce_func=fn.mean(\"m\", \"h_N\"),\n",
        "            )\n",
        "            h_N = g.ndata[\"h_N\"]\n",
        "            h_total = torch.cat([h, h_N], dim=1)\n",
        "            return self.linear(h_total)"
      ]
    },
    {
      "cell_type": "markdown",
      "metadata": {},
      "source": [
        "このデータセットのグラフはエッジの重みを持っていないため、モデルの ``forward()`` 関数ですべてのエッジの重みを1に手動で割り当てている。\n",
        "edge weigthを考慮したい場合は、自分でエッジの重みを設定してください。"
      ]
    },
    {
      "cell_type": "code",
      "execution_count": 9,
      "metadata": {
        "collapsed": false
      },
      "outputs": [
        {
          "name": "stdout",
          "output_type": "stream",
          "text": [
            "In epoch 0, loss: 1.951, val acc: 0.162 (best 0.162), test acc: 0.149 (best 0.149)\n",
            "In epoch 5, loss: 1.887, val acc: 0.330 (best 0.330), test acc: 0.346 (best 0.346)\n",
            "In epoch 10, loss: 1.764, val acc: 0.576 (best 0.576), test acc: 0.575 (best 0.575)\n",
            "In epoch 15, loss: 1.576, val acc: 0.564 (best 0.576), test acc: 0.559 (best 0.575)\n",
            "In epoch 20, loss: 1.330, val acc: 0.604 (best 0.604), test acc: 0.612 (best 0.612)\n",
            "In epoch 25, loss: 1.048, val acc: 0.654 (best 0.654), test acc: 0.663 (best 0.663)\n",
            "In epoch 30, loss: 0.767, val acc: 0.702 (best 0.702), test acc: 0.717 (best 0.717)\n",
            "In epoch 35, loss: 0.523, val acc: 0.740 (best 0.740), test acc: 0.751 (best 0.751)\n",
            "In epoch 40, loss: 0.336, val acc: 0.758 (best 0.758), test acc: 0.774 (best 0.774)\n",
            "In epoch 45, loss: 0.211, val acc: 0.766 (best 0.766), test acc: 0.777 (best 0.777)\n",
            "In epoch 50, loss: 0.132, val acc: 0.768 (best 0.768), test acc: 0.779 (best 0.774)\n",
            "In epoch 55, loss: 0.085, val acc: 0.766 (best 0.768), test acc: 0.781 (best 0.774)\n",
            "In epoch 60, loss: 0.057, val acc: 0.766 (best 0.770), test acc: 0.781 (best 0.780)\n",
            "In epoch 65, loss: 0.041, val acc: 0.770 (best 0.770), test acc: 0.775 (best 0.780)\n",
            "In epoch 70, loss: 0.030, val acc: 0.772 (best 0.772), test acc: 0.773 (best 0.774)\n",
            "In epoch 75, loss: 0.024, val acc: 0.770 (best 0.772), test acc: 0.771 (best 0.774)\n",
            "In epoch 80, loss: 0.019, val acc: 0.770 (best 0.772), test acc: 0.769 (best 0.774)\n",
            "In epoch 85, loss: 0.016, val acc: 0.768 (best 0.772), test acc: 0.768 (best 0.774)\n",
            "In epoch 90, loss: 0.014, val acc: 0.770 (best 0.772), test acc: 0.767 (best 0.774)\n",
            "In epoch 95, loss: 0.012, val acc: 0.768 (best 0.772), test acc: 0.766 (best 0.774)\n",
            "In epoch 100, loss: 0.011, val acc: 0.768 (best 0.772), test acc: 0.767 (best 0.774)\n",
            "In epoch 105, loss: 0.010, val acc: 0.768 (best 0.772), test acc: 0.766 (best 0.774)\n",
            "In epoch 110, loss: 0.009, val acc: 0.768 (best 0.772), test acc: 0.765 (best 0.774)\n",
            "In epoch 115, loss: 0.008, val acc: 0.768 (best 0.772), test acc: 0.766 (best 0.774)\n",
            "In epoch 120, loss: 0.008, val acc: 0.770 (best 0.772), test acc: 0.767 (best 0.774)\n",
            "In epoch 125, loss: 0.007, val acc: 0.770 (best 0.772), test acc: 0.767 (best 0.774)\n",
            "In epoch 130, loss: 0.007, val acc: 0.770 (best 0.772), test acc: 0.767 (best 0.774)\n",
            "In epoch 135, loss: 0.006, val acc: 0.768 (best 0.772), test acc: 0.767 (best 0.774)\n",
            "In epoch 140, loss: 0.006, val acc: 0.768 (best 0.772), test acc: 0.766 (best 0.774)\n",
            "In epoch 145, loss: 0.006, val acc: 0.768 (best 0.772), test acc: 0.766 (best 0.774)\n",
            "In epoch 150, loss: 0.005, val acc: 0.768 (best 0.772), test acc: 0.766 (best 0.774)\n",
            "In epoch 155, loss: 0.005, val acc: 0.768 (best 0.772), test acc: 0.766 (best 0.774)\n",
            "In epoch 160, loss: 0.005, val acc: 0.768 (best 0.772), test acc: 0.766 (best 0.774)\n",
            "In epoch 165, loss: 0.004, val acc: 0.768 (best 0.772), test acc: 0.767 (best 0.774)\n",
            "In epoch 170, loss: 0.004, val acc: 0.768 (best 0.772), test acc: 0.767 (best 0.774)\n",
            "In epoch 175, loss: 0.004, val acc: 0.768 (best 0.772), test acc: 0.767 (best 0.774)\n",
            "In epoch 180, loss: 0.004, val acc: 0.768 (best 0.772), test acc: 0.767 (best 0.774)\n",
            "In epoch 185, loss: 0.004, val acc: 0.768 (best 0.772), test acc: 0.767 (best 0.774)\n",
            "In epoch 190, loss: 0.003, val acc: 0.768 (best 0.772), test acc: 0.768 (best 0.774)\n",
            "In epoch 195, loss: 0.003, val acc: 0.770 (best 0.772), test acc: 0.768 (best 0.774)\n"
          ]
        }
      ],
      "source": [
        "class Model(nn.Module):\n",
        "    def __init__(self, in_feats, h_feats, num_classes):\n",
        "        super(Model, self).__init__()\n",
        "        self.conv1 = WeightedSAGEConv(in_feats, h_feats)\n",
        "        self.conv2 = WeightedSAGEConv(h_feats, num_classes)\n",
        "\n",
        "    def forward(self, g, in_feat):\n",
        "        h = self.conv1(g, in_feat, torch.ones(g.num_edges(), 1).to(g.device)) # torch.ones(g.num_edges(), 1).to(g.device) はエッジの重みが1の場合\n",
        "        h = F.relu(h)\n",
        "        h = self.conv2(g, h, torch.ones(g.num_edges(), 1).to(g.device))\n",
        "        return h\n",
        "\n",
        "\n",
        "model = Model(g.ndata[\"feat\"].shape[1], 16, dataset.num_classes)\n",
        "train(g, model)"
      ]
    },
    {
      "cell_type": "markdown",
      "metadata": {},
      "source": [
        "## ユーザが定義した関数によるさらなるカスタマイズ\n",
        "DGLは、ユーザが定義したメッセージ関数と集約関数を使用して、最大限のの表現を可能にしている。  \n",
        "以下は、``fn.u_mul_e('h', 'w', 'm')`` と同等のユーザが定義したメッセージ関数である。"
      ]
    },
    {
      "cell_type": "code",
      "execution_count": 8,
      "metadata": {
        "collapsed": false
      },
      "outputs": [],
      "source": [
        "def u_mul_e_udf(edges):\n",
        "    return {\"m\": edges.src[\"h\"] * edges.data[\"w\"]}"
      ]
    },
    {
      "cell_type": "markdown",
      "metadata": {},
      "source": [
        "``edges``は、すべてのエッジに対して、ソースノード特徴、エッジ特徴、およぼターゲットノード特徴を表す ``src``、``data``、``dst`` の3つのメンバーを持っている。"
      ]
    },
    {
      "cell_type": "markdown",
      "metadata": {},
      "source": [
        "集約関数も自分で定義可能である。例えば、以下は受信したメッセージを平均化する組み込みの ``fn.mean('m', 'h_N')`` 関数と同等である。"
      ]
    },
    {
      "cell_type": "code",
      "execution_count": 9,
      "metadata": {
        "collapsed": false
      },
      "outputs": [],
      "source": [
        "def mean_udf(nodes):\n",
        "    return {\"h_N\": nodes.mailbox[\"m\"].mean(1)}"
      ]
    },
    {
      "cell_type": "markdown",
      "metadata": {},
      "source": [
        "要するに、DGLはノードを入次数でグループ化し、各グループに対してDGLは受信したメッセージを第2次元に沿ってスタックする。その後、第2次元に沿って平均化を行い、メッセージを集約する。\n",
        "\n",
        "例. 入次数 3 (40, 1) -> (40, 3) -> (40, 1)\n",
        "\n",
        "ユーザが定義した関数でメッセージと集約関数をカスタマイズする詳細については、`APIリファレンス <apiudf>`を参照してください。"
      ]
    },
    {
      "cell_type": "markdown",
      "metadata": {},
      "source": [
        "## カスタムGNNモジュールのベストプラクティス\n",
        "\n",
        "DGL は、以下の順序でカスタムGNNモジュールを作成することを推奨しています。\n",
        "\n",
        "\n",
        "- ``dgl.nn`` モジュールを使用する。\n",
        "- ``dgl.nn.functional`` 関数を使用する。これには、ノードごとに入力エッジに対してソフトマックスを計算するなど、より低レベルの複雑な操作が含まれている。\n",
        "- 組み込みのメッセージと集約関数を使用して ``update_all`` を使用する。\n",
        "- ユーザが定義したメッセージまたは集約関数を使用する。 "
      ]
    },
    {
      "cell_type": "markdown",
      "metadata": {},
      "source": [
        "## What’s next?\n",
        "\n",
        "-  `Writing Efficient Message Passing\n",
        "   Code <guide-message-passing-efficient>`.\n"
      ]
    },
    {
      "cell_type": "code",
      "execution_count": 10,
      "metadata": {
        "collapsed": false
      },
      "outputs": [],
      "source": [
        "# Thumbnail credits: Representation Learning on Networks, Jure Leskovec, WWW 2018\n",
        "# sphinx_gallery_thumbnail_path = '_static/blitz_3_message_passing.png'"
      ]
    }
  ],
  "metadata": {
    "kernelspec": {
      "display_name": "dgl_env",
      "language": "python",
      "name": "python3"
    },
    "language_info": {
      "codemirror_mode": {
        "name": "ipython",
        "version": 3
      },
      "file_extension": ".py",
      "mimetype": "text/x-python",
      "name": "python",
      "nbconvert_exporter": "python",
      "pygments_lexer": "ipython3",
      "version": "3.11.8"
    }
  },
  "nbformat": 4,
  "nbformat_minor": 0
}
